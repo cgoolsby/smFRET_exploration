{
 "cells": [
  {
   "cell_type": "markdown",
   "metadata": {},
   "source": [
    "This notebook will explore data, as in the initial exploration but instead will focus on producing graphs as an experimentalist might.\n",
    "\n",
    "After conversing with the experimentalist who provided us the data we have a few preprocessing steps and a few observed constants.\n",
    "\n",
    "Gamma = 0.6\n",
    "\n",
    "Leakthrough (Beta) = 7% or 0.07\n",
    "\n",
    "He utilized the following smFRET Efficiency Equation\n"
   ]
  },
  {
   "cell_type": "markdown",
   "metadata": {},
   "source": [
    "![fret equation](../images/fret_equation.png)"
   ]
  },
  {
   "cell_type": "markdown",
   "metadata": {},
   "source": [
    "His first step was to bin the data at the millisecond timescale (0.001).\n",
    "I've written an awk script which should be run on a data file output by timesteps_extractor.py to do exactly this."
   ]
  },
  {
   "cell_type": "code",
   "execution_count": 3,
   "metadata": {},
   "outputs": [],
   "source": [
    "#first some constants\n",
    "!columnOneTimescale=0.0000001 # 10 ^ -7\n",
    "!columnTwoTimescale=0.00000000003.2 # 3.2 * 10 ^ -11\n",
    "!gamma=0.6\n",
    "!beta=0.07"
   ]
  },
  {
   "cell_type": "code",
   "execution_count": 22,
   "metadata": {},
   "outputs": [
    {
     "name": "stdout",
     "output_type": "stream",
     "text": [
      "0.000 3.000000\r\n",
      "0.000 3.000000\r\n",
      "0.000 3.000000\r\n",
      "0.000 3.000000\r\n",
      "0.000 4.000000\r\n",
      "0.000 4.000000\r\n",
      "0.000 4.000000\r\n",
      "0.000 4.000000\r\n"
     ]
    }
   ],
   "source": [
    "#!awk -v ONE=$columnOneTimescale -v TWO=columnTwoTimescale '{if(NR>2){x=($1 * ONE + $3 * TWO); printf \"%.3f %f\\n\", x, $2}}' FILENAME\n",
    "#awk will ignore first two rows\n",
    "#and then round to 3 decimals of precision - i.e. every row will be converted to timestamp, channel\n",
    "!awk -v ONE=$columnOneTimescale -v TWO=columnTwoTimescale '{if(NR>2){x=($1 * ONE + $3 * TWO); printf \"%.3f %f\\n\", x, $2}}' ../data/10LinesOfExampleData.csv\n",
    "#we will also write a small intermediate file for quick access in the next step\n",
    "!awk -v ONE=$columnOneTimescale -v TWO=columnTwoTimescale '{if(NR>2){x=($1 * ONE + $3 * TWO); printf \"%.3f %f\\n\", x, $2}}' ../data/10LinesOfExampleData.csv > ../data/intermediate1"
   ]
  },
  {
   "cell_type": "code",
   "execution_count": 24,
   "metadata": {},
   "outputs": [
    {
     "name": "stdout",
     "output_type": "stream",
     "text": [
      "0.000 4 4\r\n"
     ]
    }
   ],
   "source": [
    "##if the channel is 3, then it is acceptor.  If it is 4, it is donor\n",
    "##This awk script checks the value of the 2nd column (the channel) and decides if we are looking at an acceptor or a donor\n",
    "##Next it increments the appropriate timestamp by 1.  \n",
    "##Finally, we write the file timestamp, acceptorCount(y), donorCount(z)\n",
    "!awk '{u[$1]++; if(int($2)==3)y[$1]++; if(int($2)==4)z[$1]++}; END{for (j in u) printf \"%.3f %.0f %.0f\\n\", j, y[j], z[j]}' ../data/intermediate1 | sort -n \n",
    "#and once again we write an intermediate file for next step\n",
    "!awk '{u[$1]++; if(int($2)==3)y[$1]++; if(int($2)==4)z[$1]++}; END{for (j in u) printf \"%.3f %.0f %.0f\\n\", j, y[j], z[j]}' ../data/intermediate1 | sort -n > ../data/intermediate2"
   ]
  },
  {
   "cell_type": "code",
   "execution_count": 25,
   "metadata": {},
   "outputs": [
    {
     "name": "stdout",
     "output_type": "stream",
     "text": [
      "10LinesOfExampleData.csv  intermediate1\r\n",
      "README                    intermediate2\r\n"
     ]
    }
   ],
   "source": [
    "ls ../data"
   ]
  },
  {
   "cell_type": "markdown",
   "metadata": {},
   "source": [
    "Finally, the experimentalist determines qualitatively which timesteps only present noise, and which are indeed valid data.  He stated that he chooses a number between 20 and 30 observations in order to set the threshhold.  He compares his chosen number (20 in this example) with the value given by the denominator of the fret efficiency equation. \n",
    "\n",
    "*Note, there was a local subtraction step which he performed for his paper which he was fuzzy on the details.  He called it minutiae and it will be ignored in today's example.\n",
    "![fret equation](../images/fret_equation.png)"
   ]
  },
  {
   "cell_type": "code",
   "execution_count": 28,
   "metadata": {},
   "outputs": [],
   "source": [
    "#finally, we apply the fret efficiency equation on timesteps which are above the threshold.\n",
    "#this is bin'd into 50 bins and a histogram can then be graphed.\n",
    "!filter=20\n",
    "!awk -v GAMMA=$gamma -v BETA=$beta -v FILTER=$filter '{if(($2 + (GAMMA-BETA) * $3) > FILTER){x=($2 - BETA * $3); y=(x/(x + GAMMA * $3)); z[int(y*50)]++}}; END{for (j in z)if(j>-10 && j<50) print j/50, z[j]}' ../data/intermediate2 | sort -n\n",
    "#This will produce no result as no value meets the criterion from the sample."
   ]
  },
  {
   "cell_type": "markdown",
   "metadata": {},
   "source": [
    "For Reference, I have included as yet unpublished figures from the experimentalists paper.\n",
    "\n",
    "Full datasets can be obtained from: https://urldefense.proofpoint.com/v2/url?u=https-3A__my.pcloud.com_publink_show-3Fcode-3DkZT9cLkZrSyQXkE6PU7D4cslbNDv0L07jr6V&d=DwMFaQ&c=7ypwAowFJ8v-mw8AB-SdSueVQgSDL4HiiSaLK01W8HA&r=Vk8xFKDEER_aI9UoVYHhKw&m=3GgIW977eI-K0PKH5azqA-lsjOI19PZTcICIfajSgzk&s=Ax8upmKWmxrO9svG3xsdk0ysLLes8ikV8M_LdD9bzwE&e="
   ]
  },
  {
   "cell_type": "markdown",
   "metadata": {},
   "source": [
    "Describing and understanding these diagrams.  This gives you a perspective of what you should expect to see from the data.\n",
    "![C](../images/figure_c.png)\n",
    "\n",
    "C:\n",
    "\n",
    "The Black Line is fit to the histogram.  The Other 3 are fit to ‘re-build’ the black curve.\n",
    "\n",
    "The Purple Line is a gausiaain.  Lock the sigma value to value obtained from 3M because this is the best representation of completely denatured protein\n",
    "\n",
    "The Blue Line is fixed to a log normal of the donor only signal.  Only the amplitude is allowed to vary (only height varies essentially)\n",
    "\n",
    "The Red Line is a reversed log normal with mu (not sigma? not sure why) fixed to the 0M signal - only amplitude is allowed to vary again.\n",
    "\n",
    "![D](../images/figure_d.png)\n",
    "D:\n",
    "To generate D, do the procedure for C\n",
    "Basically the red curve + the purple curve. Normalized to number of molecules.  Essentially deleting the donor only signal.  I have not reproduced these steps here."
   ]
  },
  {
   "cell_type": "code",
   "execution_count": null,
   "metadata": {},
   "outputs": [],
   "source": []
  }
 ],
 "metadata": {
  "kernelspec": {
   "display_name": "Python 3",
   "language": "python",
   "name": "python3"
  },
  "language_info": {
   "codemirror_mode": {
    "name": "ipython",
    "version": 3
   },
   "file_extension": ".py",
   "mimetype": "text/x-python",
   "name": "python",
   "nbconvert_exporter": "python",
   "pygments_lexer": "ipython3",
   "version": "3.7.4"
  }
 },
 "nbformat": 4,
 "nbformat_minor": 2
}
